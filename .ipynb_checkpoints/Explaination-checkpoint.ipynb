{
 "cells": [
  {
   "cell_type": "markdown",
   "metadata": {},
   "source": [
    "## Euclidean distance\n",
    "The formula used for euclidean distance was:\n",
    "\n",
    "**distance_matrix = np.sqrt(((test_data\\*\\*2).sum(axis = 1)[:, None]) + ((train_data\\*\\*2).sum(axis = 1)) - 2*test_data.dot(train_data.T))**\n",
    "\n",
    "Let's take it apart to understand what it is doing"
   ]
  },
  {
   "cell_type": "markdown",
   "metadata": {},
   "source": [
    "So basically:\n",
    "    \n",
    "<img src=\"euclidean.png\">"
   ]
  },
  {
   "cell_type": "markdown",
   "metadata": {},
   "source": [
    "This formula can be interpreted as:\n",
    "    \n",
    "<img src=\"euclidean-1.png\">\n",
    "\n",
    "*image & explanation reference: https://ljvmiranda921.github.io/notebook/2017/02/09/k-nearest-neighbors/*\n",
    "\n"
   ]
  },
  {
   "cell_type": "markdown",
   "metadata": {},
   "source": [
    "\n",
    "\n",
    "In our case, in the confusion matrix we have the number of test data as the rows and the training data as the rows.\n",
    "\n",
    "| Training data ==> | Train-1 | Train-2 | Train-3 | Train-n |\n",
    "| :-: | :-: | :-: |:-: |:-: |\n",
    "| Test data V | - | - | - | - |\n",
    "| Test data-1 | distancebetween(train-1,test-1) | distancebetween(train-2,test-1) | distancebetween(train-3,test-1) | distancebetween(train-n,test-1) |"
   ]
  },
  {
   "cell_type": "markdown",
   "metadata": {},
   "source": [
    "The train data and test data are basically vectors of the shape, \n",
    "\n",
    "train = (number of training data, number of relevant features)\n",
    "\n",
    "test = (number of test data, number of relevant features)\n"
   ]
  },
  {
   "cell_type": "code",
   "execution_count": 1,
   "metadata": {},
   "outputs": [],
   "source": [
    "import pandas as pd\n",
    "import numpy as np\n",
    "\n",
    "# For understanding we will be selecting 5 rows of train and 2 rows of test data.\n",
    "\n",
    "df = pd.read_csv(\"hayes-roth.data\", header = None, names = [\"name\",\"hobby\",\"age\",\"educational level\",\"martial status\",\"class\"])\n",
    "df = df.iloc[:5,2:]\n",
    "test_df = pd.read_csv(\"hayes-roth.test\", header = None, names = [\"hobby\",\"age\",\"educational level\",\"martial status\",\"class\"])\n",
    "test_df = test_df.iloc[:2,1:]\n",
    "\n",
    "# Get X_train & X_test to compute the distance between them\n",
    "\n",
    "X_train = np.asarray(df, dtype=np.int64)\n",
    "X_train = X_train[:,:-1]\n",
    "\n",
    "X_test = np.asarray(test_df, dtype=np.int64)\n",
    "X_test = X_test[:,:-1]\n"
   ]
  },
  {
   "cell_type": "code",
   "execution_count": 2,
   "metadata": {},
   "outputs": [
    {
     "data": {
      "text/plain": [
       "array([[1, 1, 2],\n",
       "       [1, 3, 2],\n",
       "       [1, 4, 1],\n",
       "       [4, 2, 2],\n",
       "       [1, 3, 4]], dtype=int64)"
      ]
     },
     "execution_count": 2,
     "metadata": {},
     "output_type": "execute_result"
    }
   ],
   "source": [
    "X_train"
   ]
  },
  {
   "cell_type": "code",
   "execution_count": 3,
   "metadata": {},
   "outputs": [
    {
     "data": {
      "text/plain": [
       "array([[ 1,  1,  4],\n",
       "       [ 1,  9,  4],\n",
       "       [ 1, 16,  1],\n",
       "       [16,  4,  4],\n",
       "       [ 1,  9, 16]], dtype=int64)"
      ]
     },
     "execution_count": 3,
     "metadata": {},
     "output_type": "execute_result"
    }
   ],
   "source": [
    "train_data_square = X_train ** 2\n",
    "train_data_square"
   ]
  },
  {
   "cell_type": "code",
   "execution_count": 4,
   "metadata": {},
   "outputs": [
    {
     "data": {
      "text/plain": [
       "array([[1, 1, 2],\n",
       "       [1, 2, 1]], dtype=int64)"
      ]
     },
     "execution_count": 4,
     "metadata": {},
     "output_type": "execute_result"
    }
   ],
   "source": [
    "X_test"
   ]
  },
  {
   "cell_type": "code",
   "execution_count": 5,
   "metadata": {},
   "outputs": [
    {
     "data": {
      "text/plain": [
       "array([[1, 1, 4],\n",
       "       [1, 4, 1]], dtype=int64)"
      ]
     },
     "execution_count": 5,
     "metadata": {},
     "output_type": "execute_result"
    }
   ],
   "source": [
    "# distance_matrix = np.sqrt(((test_data**2).sum(axis = 1)[:, None]) + ((train_data**2).sum(axis = 1)) - 2*test_data.dot(train_data.T))\n",
    "\n",
    "test_data_square = X_test ** 2\n",
    "test_data_square"
   ]
  },
  {
   "cell_type": "code",
   "execution_count": 6,
   "metadata": {},
   "outputs": [
    {
     "data": {
      "text/plain": [
       "array([6, 6], dtype=int64)"
      ]
     },
     "execution_count": 6,
     "metadata": {},
     "output_type": "execute_result"
    }
   ],
   "source": [
    "# Using sum function to sum all the elements of a row i.e (axis = 1)\n",
    "test_data_square.sum(axis=1)"
   ]
  },
  {
   "cell_type": "code",
   "execution_count": 7,
   "metadata": {},
   "outputs": [
    {
     "data": {
      "text/plain": [
       "(2, 1)"
      ]
     },
     "execution_count": 7,
     "metadata": {},
     "output_type": "execute_result"
    }
   ],
   "source": [
    "# Adding a dimension to change it from (2,) to (2,1)\n",
    "(X_test**2).sum(axis = 1)[:, None].shape"
   ]
  },
  {
   "cell_type": "code",
   "execution_count": 8,
   "metadata": {},
   "outputs": [
    {
     "data": {
      "text/plain": [
       "array([ 6, 14, 18, 24, 26], dtype=int64)"
      ]
     },
     "execution_count": 8,
     "metadata": {},
     "output_type": "execute_result"
    }
   ],
   "source": [
    "# Similarly with X_train\n",
    "(X_train**2).sum(axis=1)"
   ]
  },
  {
   "cell_type": "code",
   "execution_count": 9,
   "metadata": {},
   "outputs": [
    {
     "data": {
      "text/plain": [
       "(5,)"
      ]
     },
     "execution_count": 9,
     "metadata": {},
     "output_type": "execute_result"
    }
   ],
   "source": [
    "(X_train**2).sum(axis=1).shape"
   ]
  },
  {
   "cell_type": "code",
   "execution_count": 10,
   "metadata": {},
   "outputs": [
    {
     "data": {
      "text/plain": [
       "(2, 5)"
      ]
     },
     "execution_count": 10,
     "metadata": {},
     "output_type": "execute_result"
    }
   ],
   "source": [
    "# Adding the X_train_square and X_test_square\n",
    "((X_test**2).sum(axis = 1)[:, None] + (X_train**2).sum(axis=1)).shape"
   ]
  },
  {
   "cell_type": "code",
   "execution_count": 11,
   "metadata": {},
   "outputs": [
    {
     "name": "stdout",
     "output_type": "stream",
     "text": [
      "X_test shape: (2, 3)\n",
      "X_train shape: (5, 3)\n"
     ]
    }
   ],
   "source": [
    "print(\"X_test shape:\",X_test.shape)\n",
    "print(\"X_train shape:\",X_train.shape)"
   ]
  },
  {
   "cell_type": "code",
   "execution_count": 12,
   "metadata": {},
   "outputs": [
    {
     "data": {
      "text/plain": [
       "array([[ 6,  8,  7, 10, 12],\n",
       "       [ 5,  9, 10, 10, 11]], dtype=int64)"
      ]
     },
     "execution_count": 12,
     "metadata": {},
     "output_type": "execute_result"
    }
   ],
   "source": [
    "# To multiply between X_test and X_train we need to transpose the train \n",
    "# We choose train as (2, 3) * (3, 5) = (2,5) (confusion matrix contatining test as rows and train as columns)\n",
    "np.dot(X_test, X_train.T)"
   ]
  },
  {
   "cell_type": "code",
   "execution_count": 13,
   "metadata": {},
   "outputs": [
    {
     "data": {
      "text/plain": [
       "array([[0.        , 2.        , 3.16227766, 3.16227766, 2.82842712],\n",
       "       [1.41421356, 1.41421356, 2.        , 3.16227766, 3.16227766]])"
      ]
     },
     "execution_count": 13,
     "metadata": {},
     "output_type": "execute_result"
    }
   ],
   "source": [
    "# To put it all under sqrt\n",
    "np.sqrt(((X_test**2).sum(axis = 1)[:, None]) + ((X_train**2).sum(axis = 1)) - 2*np.dot(X_test, X_train.T))"
   ]
  },
  {
   "cell_type": "code",
   "execution_count": null,
   "metadata": {},
   "outputs": [],
   "source": []
  }
 ],
 "metadata": {
  "kernelspec": {
   "display_name": "Python 3",
   "language": "python",
   "name": "python3"
  },
  "language_info": {
   "codemirror_mode": {
    "name": "ipython",
    "version": 3
   },
   "file_extension": ".py",
   "mimetype": "text/x-python",
   "name": "python",
   "nbconvert_exporter": "python",
   "pygments_lexer": "ipython3",
   "version": "3.7.6"
  }
 },
 "nbformat": 4,
 "nbformat_minor": 4
}
